{
 "cells": [
  {
   "cell_type": "markdown",
   "id": "c8a9dcdf-c945-44dd-93a6-4945483db192",
   "metadata": {},
   "source": [
    "# Interpolación de Lagrange\n",
    "J.J\n",
    "---\n",
    "Dado un conjunto de nodos de interpolación $\\{ x_{0}, x_{1}, \\ldots, x_{n} \\}$ y los valores $\\{ f_{0}, f_{1}, \\ldots, f_{n} \\}$ de una función $f(x)$. La aproximación $f(x) \\approx L_{n}(f;x) \\forall x \\in [x_{0},x_{n}]$ recibe el nombre de interpolación polinomial y\n",
    "\n",
    "\\begin{align}\n",
    "L_{n}(f;x) &= \\sum_{i=0}^{n} p_{ni}(x) f_{i}, & p_{ni} = \\prod_{j=0,j\\neq 1}^{n} \\frac{x - x_{j}}{x_{i} - x_{j}}.\n",
    "\\end{align}"
   ]
  },
  {
   "cell_type": "markdown",
   "id": "f3410f7d-8741-41ed-b262-26e0eeeb289e",
   "metadata": {},
   "source": [
    "Ejemplo: Interpolar el perfil de la función $f(x) = ln(x), x \\in [0,4]$ con el conjunto de puntos $\\{ \\, (1.0, 0.0), \\, (1.7, 0.5306282510621704), \\, (2.6, 0.9555114450274363), \\, (3.0, 1.0986122886681098), \\, (3.4, 1.2237754316221157), \\, (4.0, 1.3862943611198906) \\, \\}$"
   ]
  },
  {
   "cell_type": "code",
   "execution_count": 1,
   "id": "9530afe5-d94f-45bd-bc74-d19f314a9b2a",
   "metadata": {},
   "outputs": [],
   "source": [
    "import matplotlib.pyplot as plt\n",
    "import numpy as np"
   ]
  },
  {
   "cell_type": "code",
   "execution_count": 2,
   "id": "db5dca2f-2103-4709-919f-933b0f2e9986",
   "metadata": {},
   "outputs": [],
   "source": [
    "puntos = [(1.0, 0.0), (1.7, 0.5306282510621704), (2.6, 0.9555114450274363), (3.0, 1.0986122886681098), (3.4, 1.2237754316221157), (4.0, 1.3862943611198906)]\n",
    "n = len(puntos)"
   ]
  },
  {
   "cell_type": "code",
   "execution_count": 3,
   "id": "5c739dfc-1d9b-43fd-811d-614a553ed561",
   "metadata": {},
   "outputs": [],
   "source": [
    "def p(x, i, n=n, X=puntos):\n",
    "    p = 1\n",
    "    for j in range(0, n):\n",
    "        if j == i:\n",
    "            continue\n",
    "        else:\n",
    "            p *= ((x-X[j][0])/(X[i][0]-X[j][0]))\n",
    "    return p"
   ]
  },
  {
   "cell_type": "code",
   "execution_count": 4,
   "id": "243cc279-db6c-4fc8-b02c-ac191617f862",
   "metadata": {
    "tags": []
   },
   "outputs": [],
   "source": [
    "def f(x, n=n,X=puntos): #funcion aproximada\n",
    "    f = 0\n",
    "    for i in range(0, n):\n",
    "        f += p(x,i)*X[i][1]\n",
    "    return f"
   ]
  },
  {
   "cell_type": "code",
   "execution_count": 8,
   "id": "049239eb-de2b-49c3-92d1-727b54954963",
   "metadata": {},
   "outputs": [
    {
     "data": {
      "text/plain": [
       "[<matplotlib.lines.Line2D at 0x7f27aa3d4640>]"
      ]
     },
     "execution_count": 8,
     "metadata": {},
     "output_type": "execute_result"
    },
    {
     "data": {
      "image/png": "[encoded data removed]",
      "text/plain": [
       "<Figure size 432x288 with 1 Axes>"
      ]
     },
     "metadata": {
      "needs_background": "light"
     },
     "output_type": "display_data"
    }
   ],
   "source": [
    "x = np.linspace(1, 4, 100)\n",
    "plt.scatter(*zip(*puntos))\n",
    "plt.plot(x, f(x))\n",
    "plt.show()"
   ]
  },
  {
   "cell_type": "code",
   "execution_count": null,
   "id": "dcdf2df7-4b49-4723-ab7a-c47fa785aa72",
   "metadata": {},
   "outputs": [],
   "source": []
  }
 ],
 "metadata": {
  "kernelspec": {
   "display_name": "Python 3",
   "language": "python",
   "name": "python3"
  },
  "language_info": {
   "codemirror_mode": {
    "name": "ipython",
    "version": 3
   },
   "file_extension": ".py",
   "mimetype": "text/x-python",
   "name": "python",
   "nbconvert_exporter": "python",
   "pygments_lexer": "ipython3",
   "version": "3.8.8"
  }
 },
 "nbformat": 4,
 "nbformat_minor": 5
}
