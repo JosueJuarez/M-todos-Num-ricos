{
 "cells": [
  {
   "cell_type": "markdown",
   "id": "12770ad2-7ef1-4634-bd59-0b38d88ff4a0",
   "metadata": {},
   "source": [
    "# Aproximación de integrales\n",
    "J.J\n",
    "---\n",
    "Ejemplo:  $I = \\int_{0}^{\\pi/2} \\cos(x)dx =1$."
   ]
  },
  {
   "cell_type": "code",
   "execution_count": 1,
   "id": "431827ad-9a06-45e8-bf63-b50dc3f4023a",
   "metadata": {},
   "outputs": [],
   "source": [
    "import numpy as np"
   ]
  },
  {
   "cell_type": "code",
   "execution_count": 2,
   "id": "bedcfbe7-dc86-4085-bc4a-a58dc1be3caf",
   "metadata": {},
   "outputs": [],
   "source": [
    "def f(x):\n",
    "    return np.cos(x)\n",
    "\n",
    "a = 0.\n",
    "b = (np.pi)/2"
   ]
  },
  {
   "cell_type": "markdown",
   "id": "9a88590d-c3fd-44ae-b7cb-b049ecb5f54e",
   "metadata": {},
   "source": [
    "## Regla del trapecio\n",
    "\n",
    "\\begin{equation}\n",
    "\\int_{a}^{b} f(x)dx \\approx \\left( \\frac{b-a}{2} \\right) \\left[ f(a) + f(b) \\right].\n",
    "\\end{equation}"
   ]
  },
  {
   "cell_type": "code",
   "execution_count": 3,
   "id": "e582db22-3f0b-4c23-ae97-0b6536548bba",
   "metadata": {},
   "outputs": [],
   "source": [
    "def Trapecio(a=a, b=b, f=f):\n",
    "    return ((b-a)/2)*(f(a)+f(b))"
   ]
  },
  {
   "cell_type": "code",
   "execution_count": 4,
   "id": "8eb7645e-7fa8-4234-8e1a-d6aacf2c4aba",
   "metadata": {},
   "outputs": [
    {
     "name": "stdout",
     "output_type": "stream",
     "text": [
      "0.7853981633974483\n"
     ]
    }
   ],
   "source": [
    "print(Trapecio())"
   ]
  },
  {
   "cell_type": "markdown",
   "id": "d4c5c338-2033-4bf3-a35d-2080c37c5259",
   "metadata": {},
   "source": [
    "## Regla de Simpson\n",
    "\n",
    "\\begin{equation}\n",
    "\\int_{a}^{b} f(x)dx \\approx \\left( \\frac{b-a}{6} \\right) \\left[ f(a) + 4f \\left( \\frac{a+b}{2} \\right)  + f(b) \\right].\n",
    "\\end{equation}"
   ]
  },
  {
   "cell_type": "code",
   "execution_count": 5,
   "id": "25f28ada-3b6a-4a34-abcd-8b9b793adf96",
   "metadata": {},
   "outputs": [],
   "source": [
    "def Simpson(a=a, b=b, f=f):\n",
    "    return ((b-a)/6)*(f(a)+4*f((a+b)/2)+f(b))"
   ]
  },
  {
   "cell_type": "code",
   "execution_count": 6,
   "id": "c162c9f5-7286-4b64-bef8-66d3aacb5acc",
   "metadata": {},
   "outputs": [
    {
     "name": "stdout",
     "output_type": "stream",
     "text": [
      "1.0022798774922104\n"
     ]
    }
   ],
   "source": [
    "print(Simpson())"
   ]
  },
  {
   "cell_type": "code",
   "execution_count": null,
   "id": "b4189f6a-ffb1-45fe-8837-5c17a9a5a388",
   "metadata": {},
   "outputs": [],
   "source": []
  }
 ],
 "metadata": {
  "kernelspec": {
   "display_name": "Python 3",
   "language": "python",
   "name": "python3"
  },
  "language_info": {
   "codemirror_mode": {
    "name": "ipython",
    "version": 3
   },
   "file_extension": ".py",
   "mimetype": "text/x-python",
   "name": "python",
   "nbconvert_exporter": "python",
   "pygments_lexer": "ipython3",
   "version": "3.8.8"
  }
 },
 "nbformat": 4,
 "nbformat_minor": 5
}
