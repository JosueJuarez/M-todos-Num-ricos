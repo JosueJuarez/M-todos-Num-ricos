{
 "cells": [
  {
   "cell_type": "markdown",
   "id": "8b44d1e0-0fa5-40c2-be16-22f4cd4b7dc4",
   "metadata": {},
   "source": [
    "# RK2\n",
    "---\n",
    "\n",
    "\\begin{equation}\n",
    "y'_{k+1} = y_{k} + h f(x_{k},y_{k}),\n",
    "\\end{equation}\n",
    "\\begin{equation}\n",
    "y_{k+1} = y_{k} + \\frac{h}{2} [f(x_{k},y_{k}) + f(x_{k+1},y'_{k+1})],\n",
    "\\end{equation}\n",
    "con $k = 0, 1, 2, ...$\n",
    "\n",
    "O Bien\n",
    "\n",
    "\\begin{equation}\n",
    "y_{k+1} = y_{k} + h F(x_{k},y_{k}),\n",
    "\\end{equation}\n",
    "con\n",
    "\\begin{equation}\n",
    "F(x,y) \\equiv \\frac{1}{2} \\{ f(x,y) + f(x+h, y+hf(x,y)) \\}\n",
    "\\end{equation}"
   ]
  },
  {
   "cell_type": "code",
   "execution_count": 1,
   "id": "fa85446f-2575-4cd2-a18b-6f2f73f9d774",
   "metadata": {
    "tags": []
   },
   "outputs": [],
   "source": [
    "import numpy as npc\n",
    "import matplotlib.pyplot as plt"
   ]
  },
  {
   "cell_type": "code",
   "execution_count": 2,
   "id": "89069945-a50a-472b-bcec-c195ed43cfa2",
   "metadata": {
    "tags": []
   },
   "outputs": [],
   "source": [
    "#funcion\n",
    "def f(x, y):\n",
    "    f = 3*np.log(x) + y\n",
    "    return f"
   ]
  },
  {
   "cell_type": "code",
   "execution_count": 3,
   "id": "f7eca23e-7017-4750-ad6e-4e9767c27a69",
   "metadata": {},
   "outputs": [],
   "source": [
    "def F(x,y,h):\n",
    "    F = (1/2)*(f(x,y) + f(x+h, y+h*f(x,y)))\n",
    "    return F"
   ]
  },
  {
   "cell_type": "code",
   "execution_count": 4,
   "id": "9f6177d9-c501-43ef-9399-515d24f82583",
   "metadata": {},
   "outputs": [],
   "source": [
    "def RK2(f, X0, final, h): #(ec. dif, condiciones iniciales, punto final de integracion, tamaño de pasos)\n",
    "    x0, y0 = X0[0], X0[1]\n",
    "    size =  final/h #tamaño del grid de integracion\n",
    "    \n",
    "    X = np.linspace(x0, final, num=int(size))\n",
    "    Y = np.copy(X)\n",
    "    Y[0] = y0\n",
    "    \n",
    "    for i in range(0, int(size)-1):\n",
    "        Y[i+1] = Y[i] + h*F(X[i], Y[i], h)\n",
    "        \n",
    "    return X, Y"
   ]
  },
  {
   "cell_type": "code",
   "execution_count": 5,
   "id": "56eae1ad-6e4b-4dce-851f-fdbafbf57567",
   "metadata": {},
   "outputs": [
    {
     "data": {
      "text/plain": [
       "[<matplotlib.lines.Line2D at 0x7f93331633d0>]"
      ]
     },
     "execution_count": 5,
     "metadata": {},
     "output_type": "execute_result"
    },
    {
     "data": {
      "image/png": "[encoded data removed]",
      "text/plain": [
       "<Figure size 432x288 with 1 Axes>"
      ]
     },
     "metadata": {
      "needs_background": "light"
     },
     "output_type": "display_data"
    }
   ],
   "source": [
    "#ejemplo\n",
    "X, Y = RK2(f, [1, 1], 10, 0.01)\n",
    "\n",
    "plt.plot(X,Y)"
   ]
  },
  {
   "cell_type": "code",
   "execution_count": null,
   "id": "80bf2f0b-0ff3-400a-87fb-021f12a5163c",
   "metadata": {},
   "outputs": [],
   "source": []
  }
 ],
 "metadata": {
  "kernelspec": {
   "display_name": "Python 3",
   "language": "python",
   "name": "python3"
  },
  "language_info": {
   "codemirror_mode": {
    "name": "ipython",
    "version": 3
   },
   "file_extension": ".py",
   "mimetype": "text/x-python",
   "name": "python",
   "nbconvert_exporter": "python",
   "pygments_lexer": "ipython3",
   "version": "3.8.8"
  }
 },
 "nbformat": 4,
 "nbformat_minor": 5
}
