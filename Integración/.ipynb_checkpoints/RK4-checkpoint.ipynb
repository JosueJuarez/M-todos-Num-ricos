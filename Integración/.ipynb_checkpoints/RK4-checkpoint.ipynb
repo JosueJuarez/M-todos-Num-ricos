{
 "cells": [
  {
   "cell_type": "markdown",
   "id": "70c33893-420c-4e91-b7a5-62acdfedfc11",
   "metadata": {},
   "source": [
    "# RK4\n",
    "J.J\n",
    "---\n",
    "\n",
    "\\begin{equation}\n",
    "y_{k+1} = y_{k} + \\frac{h}{6} \\{ F_{1} + 2 F_{2} + 2 F_{3} + F_{4} \\},\n",
    "\\end{equation}\n",
    "con\n",
    "\n",
    "\\begin{align}\n",
    "F_{1} &= f(x_{k},y_{k}), & F_{2} &= f(x_{k} + \\frac{h}{2}, y_{k} + \\frac{h}{2} F_{1}) \\\\\n",
    "F_{3} &= f(x_{k} + \\frac{h}{2}, y_{k} + \\frac{h}{2} F_{2}), & F_{4} &= f(x_{k} + h, y_{k} + hF_{3})\n",
    "\\end{align}"
   ]
  },
  {
   "cell_type": "code",
   "execution_count": 1,
   "id": "f174a0f7-0ccf-42da-b2c1-9c9f425d2e39",
   "metadata": {
    "tags": []
   },
   "outputs": [],
   "source": [
    "import numpy as np\n",
    "import matplotlib.pyplot as plt"
   ]
  },
  {
   "cell_type": "code",
   "execution_count": 2,
   "id": "646530b2-429f-408c-a339-f25fc16de24c",
   "metadata": {
    "tags": []
   },
   "outputs": [],
   "source": [
    "#funcion\n",
    "def f(x, y):\n",
    "    f = 3*np.log(x) + y\n",
    "    return f"
   ]
  },
  {
   "cell_type": "code",
   "execution_count": 3,
   "id": "3bb0d832-237e-4fa0-8e7d-cd95267f388f",
   "metadata": {},
   "outputs": [],
   "source": [
    "def F2(x,y,h):\n",
    "    F2 = f(x+(h/2), y+((h/2)*f(x,y)))\n",
    "    return F2"
   ]
  },
  {
   "cell_type": "code",
   "execution_count": 4,
   "id": "cedd109f-c221-4fad-b1bd-3a9a30f10352",
   "metadata": {},
   "outputs": [],
   "source": [
    "def F3(x,y,h):\n",
    "    F3 = f(x+(h/2), y+((h/2)*F2(x,y,h)))\n",
    "    return F3"
   ]
  },
  {
   "cell_type": "code",
   "execution_count": 5,
   "id": "0e521e3a-7621-41e3-9b5f-fe9a59b86508",
   "metadata": {},
   "outputs": [],
   "source": [
    "def F4(x,y,h):\n",
    "    F4 = f(x+h,y+(h*F3(x,y,h)))\n",
    "    return F4"
   ]
  },
  {
   "cell_type": "code",
   "execution_count": 6,
   "id": "6f615957-40e2-42aa-bb6e-ef6936815c29",
   "metadata": {},
   "outputs": [],
   "source": [
    "def RK4(f, X0, final, h): #(ec. dif, condiciones iniciales, punto final de integracion, tamaño de pasos)\n",
    "    x0, y0 = X0[0], X0[1]\n",
    "    size =  final/h #tamaño del grid de integracion\n",
    "    \n",
    "    X = np.linspace(x0, final, num=int(size))\n",
    "    Y = np.copy(X)\n",
    "    Y[0] = y0\n",
    "    \n",
    "    for i in range(0, int(size)-1):\n",
    "        Y[i+1] = Y[i] + (h/6)*(f(X[i], Y[i]) + 2*F2(X[i], Y[i], h) + 2*F3(X[i], Y[i], h) + F4(X[i], Y[i], h))\n",
    "        \n",
    "    return X, Y"
   ]
  },
  {
   "cell_type": "code",
   "execution_count": 7,
   "id": "ef5897ae-3b49-4864-989e-52e83b5d9f49",
   "metadata": {},
   "outputs": [
    {
     "data": {
      "text/plain": [
       "[<matplotlib.lines.Line2D at 0x7f25a33a6760>]"
      ]
     },
     "execution_count": 7,
     "metadata": {},
     "output_type": "execute_result"
    },
    {
     "data": {
      "image/png": "[encoded data removed]",
      "text/plain": [
       "<Figure size 432x288 with 1 Axes>"
      ]
     },
     "metadata": {
      "needs_background": "light"
     },
     "output_type": "display_data"
    }
   ],
   "source": [
    "#ejemplo\n",
    "X, Y = RK4(f, [1, 1], 10, 0.01)\n",
    "\n",
    "plt.plot(X,Y)"
   ]
  },
  {
   "cell_type": "code",
   "execution_count": null,
   "id": "9e991a93-297c-4485-89a8-84aecd2f5bf9",
   "metadata": {},
   "outputs": [],
   "source": []
  }
 ],
 "metadata": {
  "kernelspec": {
   "display_name": "Python 3",
   "language": "python",
   "name": "python3"
  },
  "language_info": {
   "codemirror_mode": {
    "name": "ipython",
    "version": 3
   },
   "file_extension": ".py",
   "mimetype": "text/x-python",
   "name": "python",
   "nbconvert_exporter": "python",
   "pygments_lexer": "ipython3",
   "version": "3.8.8"
  }
 },
 "nbformat": 4,
 "nbformat_minor": 5
}
