{
 "cells": [
  {
   "cell_type": "markdown",
   "metadata": {},
   "source": [
    "# Método de Euler\n",
    "## Josué Juárez Morales\n",
    "-----\n",
    "Es un método basado en diferencias finitas para resolver la ecuación diferencial ordinaria\n",
    "\\begin{align}\n",
    "\\frac{d}{dx} y(x) = f(x,y), & \\ \\ \\ x \\geq a \\\\\n",
    "y(a) = g\n",
    "\\end{align}\n",
    "\n",
    "El dominio de integración es sobre la malla uniforme con tamaño $h$: $x_k = a + kh$, $k = 0, 1, 2, \\dotsc$\n",
    "\n",
    "En el punto $x_k$, el valor de la solución numérica es $y_k$.\n",
    "\n",
    "# Esquema de Euler\n",
    "Realizando la serie de Taylor\n",
    "\\begin{align}\n",
    "y(x_{k+1}) &= y(x_{k}) + h \\frac{\\partial y}{\\partial x}(x_{k}) + \\frac{h^2}{2} \\frac{\\partial^2 y}{\\partial^2 x}(\\xi_{k}) + \\cdots \\\\\n",
    " &= y(x_{k}) + h f(x_{k}, y(x_{k})) + \\frac{h^2}{2} \\frac{\\partial^2 y}{\\partial^2 x}(\\xi_{k}) + \\cdots\n",
    "\\end{align}\n",
    "donde $\\xi_{k}$ es un punto desconocido en el intervalo $(x_{k}, x_{k+1})$.\n",
    "\n",
    "Al considerar que la segunda derivada de $y$ está acotada y un $h$ pequeño, se puede ignormar el último término de las fórmulas anteriores. La fórmula aproximada de $y$ queda como\n",
    "\n",
    "\\begin{equation}\n",
    "y(x_{k+1}) = y(x_{k}) + h f(x_{k}, y(x_{k}))\n",
    "\\end{equation}\n",
    "\n",
    "# Ejemplo\n",
    "\n",
    "Solucionar:\n",
    "\\begin{align}\n",
    "y'(x) &= 3\\log{x} + y, & y(1) &= 1\n",
    "\\end{align}"
   ]
  },
  {
   "cell_type": "code",
   "execution_count": 1,
   "metadata": {},
   "outputs": [],
   "source": [
    "import numpy as np\n",
    "import matplotlib.pyplot as plt"
   ]
  },
  {
   "cell_type": "code",
   "execution_count": 2,
   "metadata": {},
   "outputs": [],
   "source": [
    "#funcion\n",
    "def f(x, y):\n",
    "    f = 3*np.log(x) + y\n",
    "    return f"
   ]
  },
  {
   "cell_type": "code",
   "execution_count": 3,
   "metadata": {},
   "outputs": [],
   "source": [
    "def sol_Euler(f, X0, final, h): #(ec. dif, condiciones iniciales, punto final de integracion, tamaño de pasos)\n",
    "    x0, y0 = X0[0], X0[1]\n",
    "    size =  final/h #tamaño del grid de integracion\n",
    "    \n",
    "    X = np.linspace(x0, final, num=int(size))\n",
    "    Y = np.copy(X)\n",
    "    Y[0] = y0\n",
    "    \n",
    "    for i in range(0, int(size)-1):\n",
    "        Y[i+1] = Y[i] + h*f(X[i], Y[i])\n",
    "        \n",
    "    return X, Y"
   ]
  },
  {
   "cell_type": "code",
   "execution_count": 4,
   "metadata": {},
   "outputs": [
    {
     "data": {
      "text/plain": [
       "[<matplotlib.lines.Line2D at 0x7f629a1d63d0>]"
      ]
     },
     "execution_count": 4,
     "metadata": {},
     "output_type": "execute_result"
    },
    {
     "data": {
      "image/png": "[encoded data removed]",
      "text/plain": [
       "<Figure size 432x288 with 1 Axes>"
      ]
     },
     "metadata": {
      "needs_background": "light"
     },
     "output_type": "display_data"
    }
   ],
   "source": [
    "#ejemplo\n",
    "X, Y = sol_Euler(f, [1, 1], 10, 0.01)\n",
    "\n",
    "plt.plot(X,Y)"
   ]
  },
  {
   "cell_type": "code",
   "execution_count": 5,
   "metadata": {},
   "outputs": [],
   "source": [
    "import pandas as pd \n",
    "pd.DataFrame(Y).to_csv(\"ecdf.csv\")"
   ]
  }
 ],
 "metadata": {
  "kernelspec": {
   "display_name": "Python 3",
   "language": "python",
   "name": "python3"
  },
  "language_info": {
   "codemirror_mode": {
    "name": "ipython",
    "version": 3
   },
   "file_extension": ".py",
   "mimetype": "text/x-python",
   "name": "python",
   "nbconvert_exporter": "python",
   "pygments_lexer": "ipython3",
   "version": "3.8.8"
  }
 },
 "nbformat": 4,
 "nbformat_minor": 4
}
