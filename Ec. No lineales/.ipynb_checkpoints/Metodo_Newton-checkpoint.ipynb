{
 "cells": [
  {
   "cell_type": "markdown",
   "id": "34ab9a75-7049-4dda-8d42-2ce9644293e9",
   "metadata": {},
   "source": [
    "# Método de Newton\n",
    "J.J\n",
    "---\n",
    "\\begin{equation}\n",
    "x_{k+1} = x_{k} - \\frac{f(x_{k})}{f'(x_{k})}\n",
    "\\end{equation}"
   ]
  },
  {
   "cell_type": "markdown",
   "id": "ddea109a-b89a-4e1e-950a-fa381e99d535",
   "metadata": {},
   "source": [
    "Ejemplo: $f(x) = x^{2} + 3x +1$"
   ]
  },
  {
   "cell_type": "code",
   "execution_count": 1,
   "id": "4f55ba28-519f-4b77-9e15-e80ea2288e5f",
   "metadata": {},
   "outputs": [],
   "source": [
    "import numpy as np\n",
    "from sympy import *\n",
    "from sympy.utilities.lambdify import lambdify\n",
    "import matplotlib.pyplot as plt\n",
    "init_printing(use_unicode=True)"
   ]
  },
  {
   "cell_type": "code",
   "execution_count": 2,
   "id": "421ee116-12d8-4841-828a-068e50782887",
   "metadata": {},
   "outputs": [
    {
     "data": {
      "text/plain": [
       "'2*x + 3'"
      ]
     },
     "execution_count": 2,
     "metadata": {},
     "output_type": "execute_result"
    }
   ],
   "source": [
    "#calcular la derivada de f\n",
    "x = symbols('x')\n",
    "funcion = 1 + 3*x + x**2 #escribir la función aqui\n",
    "dfuncion = diff(funcion, x)\n",
    "str(dfuncion)"
   ]
  },
  {
   "cell_type": "code",
   "execution_count": 3,
   "id": "1f8887aa-7586-4a94-baf8-571098de0685",
   "metadata": {},
   "outputs": [],
   "source": [
    "f = lambdify(x, funcion)\n",
    "df = lambdify((x), dfuncion)"
   ]
  },
  {
   "cell_type": "code",
   "execution_count": 4,
   "id": "57054117-3aed-49e0-aab0-f2527b8d4f01",
   "metadata": {},
   "outputs": [],
   "source": [
    "e = 0.0001 #error\n",
    "maxit = 1000000 #iteraciones máximas\n",
    "x0 = 2. #punto inicial"
   ]
  },
  {
   "cell_type": "code",
   "execution_count": 5,
   "id": "81a18d4f-de4c-41d1-9f98-0beb5dd0710a",
   "metadata": {},
   "outputs": [],
   "source": [
    "def NewtonR(x0, func = f, dfunc = df, error = e, iterations = maxit):\n",
    "    it = 0\n",
    "    while (abs(f(x0)) > e) and (it < maxit):\n",
    "        it += 1\n",
    "        x0 = x0 - f(x0)/df(x0)\n",
    "    return x0"
   ]
  },
  {
   "cell_type": "code",
   "execution_count": 6,
   "id": "8e1347a1-81d6-461b-b457-e69bf846339b",
   "metadata": {},
   "outputs": [
    {
     "data": {
      "image/png": "[encoded data removed]",
      "text/latex": [
       "$\\displaystyle -0.381966009841482$"
      ],
      "text/plain": [
       "-0.3819660098414816"
      ]
     },
     "execution_count": 6,
     "metadata": {},
     "output_type": "execute_result"
    }
   ],
   "source": [
    "sol = NewtonR(x0)\n",
    "sol"
   ]
  },
  {
   "cell_type": "code",
   "execution_count": 7,
   "id": "03e1ed34-3c77-417f-9ca6-1acdc9a21b49",
   "metadata": {},
   "outputs": [
    {
     "data": {
      "text/plain": [
       "[<matplotlib.lines.Line2D at 0x7f18ea5d6550>]"
      ]
     },
     "execution_count": 7,
     "metadata": {},
     "output_type": "execute_result"
    },
    {
     "data": {
      "image/png": "[encoded data removed]",
      "text/plain": [
       "<Figure size 432x288 with 1 Axes>"
      ]
     },
     "metadata": {
      "needs_background": "light"
     },
     "output_type": "display_data"
    }
   ],
   "source": [
    "X = np.linspace(-4, 2, 100)\n",
    "plt.plot(X, f(X))\n",
    "plt.plot(sol,f(sol),'ro')"
   ]
  },
  {
   "cell_type": "code",
   "execution_count": null,
   "id": "a0e8add1-9510-4d05-8c29-0eadc7ce0994",
   "metadata": {},
   "outputs": [],
   "source": []
  }
 ],
 "metadata": {
  "kernelspec": {
   "display_name": "Python 3",
   "language": "python",
   "name": "python3"
  },
  "language_info": {
   "codemirror_mode": {
    "name": "ipython",
    "version": 3
   },
   "file_extension": ".py",
   "mimetype": "text/x-python",
   "name": "python",
   "nbconvert_exporter": "python",
   "pygments_lexer": "ipython3",
   "version": "3.8.8"
  }
 },
 "nbformat": 4,
 "nbformat_minor": 5
}
