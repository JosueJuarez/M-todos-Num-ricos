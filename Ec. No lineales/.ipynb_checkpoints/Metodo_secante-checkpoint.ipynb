{
 "cells": [
  {
   "cell_type": "markdown",
   "id": "ca4fc974-6c19-44e4-88e8-e9481c21300f",
   "metadata": {},
   "source": [
    "# Método de la secante\n",
    "J.J\n",
    "---\n",
    "Está dado por las iteraciones\n",
    "\\begin{equation}\n",
    "x_{i+1} = x_{i} - \\frac{f(x_{i})}{d_{i}},\n",
    "\\end{equation}\n",
    "con\n",
    "\\begin{equation}\n",
    "d_{i} = \\frac{f(x_{i})-f(x_{i-1})}{x_{i} - x_{i-1}}.\n",
    "\\end{equation}"
   ]
  },
  {
   "cell_type": "markdown",
   "id": "0de5a089-26ca-437b-91a5-e76683fc5250",
   "metadata": {},
   "source": [
    "Ejemplo: $f(x) = x^{2} + 3x +1$"
   ]
  },
  {
   "cell_type": "code",
   "execution_count": 1,
   "id": "530b5012-ccf5-44b3-99db-ba9abcdc08ec",
   "metadata": {},
   "outputs": [],
   "source": [
    "import numpy as np\n",
    "import matplotlib.pyplot as plt"
   ]
  },
  {
   "cell_type": "code",
   "execution_count": 2,
   "id": "3e17f8ba-e9e3-422d-9682-9777a7ba9a69",
   "metadata": {},
   "outputs": [],
   "source": [
    "def f(x):\n",
    "    f = x**2 + 3*x + 1\n",
    "    return f"
   ]
  },
  {
   "cell_type": "code",
   "execution_count": 3,
   "id": "78101672-04e0-4717-ad71-7d8ea19f9b7a",
   "metadata": {},
   "outputs": [
    {
     "data": {
      "text/plain": [
       "[<matplotlib.lines.Line2D at 0x7ff0ad1751f0>]"
      ]
     },
     "execution_count": 3,
     "metadata": {},
     "output_type": "execute_result"
    },
    {
     "data": {
      "image/png": "[encoded data removed]",
      "text/plain": [
       "<Figure size 432x288 with 1 Axes>"
      ]
     },
     "metadata": {
      "needs_background": "light"
     },
     "output_type": "display_data"
    }
   ],
   "source": [
    "X = np.linspace(-3, 1, 100)\n",
    "plt.plot(X, f(X))"
   ]
  },
  {
   "cell_type": "code",
   "execution_count": 4,
   "id": "f2d28ddd-cf1c-4e38-b325-7e34640cc0b0",
   "metadata": {},
   "outputs": [],
   "source": [
    "e = 0.0001 #error\n",
    "maxit = 1000 #iteraciones máximas"
   ]
  },
  {
   "cell_type": "code",
   "execution_count": 5,
   "id": "fef326af-24fe-4ecc-b972-aeb5830cce62",
   "metadata": {},
   "outputs": [],
   "source": [
    "def Secante(x0, x1, func = f, error = e, iterations = maxit):\n",
    "    it = 0\n",
    "    while it < maxit:\n",
    "        it += 1\n",
    "        x = x1 - ((x1-x0)/(f(x1)-f(x0)))*f(x1)\n",
    "        if abs(f(x)) > e:\n",
    "            x0 = x1\n",
    "            x1 = x\n",
    "        else:\n",
    "            break\n",
    "    return x"
   ]
  },
  {
   "cell_type": "code",
   "execution_count": 6,
   "id": "fc359d64-818f-4ec9-9b53-c4e23598965d",
   "metadata": {},
   "outputs": [],
   "source": [
    "sol1 = Secante(-3.,-2.)\n",
    "sol2 = Secante(-1.,0.)"
   ]
  },
  {
   "cell_type": "code",
   "execution_count": 7,
   "id": "4bade111-829e-437a-8f9f-18872be0e6d6",
   "metadata": {},
   "outputs": [
    {
     "data": {
      "text/plain": [
       "[<matplotlib.lines.Line2D at 0x7ff0ad068c70>]"
      ]
     },
     "execution_count": 7,
     "metadata": {},
     "output_type": "execute_result"
    },
    {
     "data": {
      "image/png": "[encoded data removed]",
      "text/plain": [
       "<Figure size 432x288 with 1 Axes>"
      ]
     },
     "metadata": {
      "needs_background": "light"
     },
     "output_type": "display_data"
    }
   ],
   "source": [
    "X = np.linspace(-3, 1, 100)\n",
    "plt.plot(X, f(X))\n",
    "plt.plot(sol1,f(sol1),'ro')\n",
    "plt.plot(sol2,f(sol2),'ro')"
   ]
  },
  {
   "cell_type": "code",
   "execution_count": null,
   "id": "74a3bb9c-5772-491e-a614-528c5b9c8ee0",
   "metadata": {},
   "outputs": [],
   "source": []
  }
 ],
 "metadata": {
  "kernelspec": {
   "display_name": "Python 3",
   "language": "python",
   "name": "python3"
  },
  "language_info": {
   "codemirror_mode": {
    "name": "ipython",
    "version": 3
   },
   "file_extension": ".py",
   "mimetype": "text/x-python",
   "name": "python",
   "nbconvert_exporter": "python",
   "pygments_lexer": "ipython3",
   "version": "3.8.8"
  }
 },
 "nbformat": 4,
 "nbformat_minor": 5
}
