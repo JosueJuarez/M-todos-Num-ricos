{
 "cells": [
  {
   "cell_type": "markdown",
   "id": "e8bfde92-5fa0-494c-8673-de57f532ed01",
   "metadata": {},
   "source": [
    "# Método de punto fijo\n",
    "J.J\n",
    "---\n",
    "Dado que se busca resolver $f(x) = 0$, la función $f$ puede ser reescrita como $f(x) = g(x) - x = 0$. El método de punto fijo está dado por las iteraciones:\n",
    "\n",
    "\\begin{equation}\n",
    "x_{k+1} = g(x_{k}).\n",
    "\\end{equation}\n",
    "\n",
    "El método converge a una raíz si los valores de $x_{k}$ en cada iteración cumplen $|g'(x)| \\leq 1$."
   ]
  },
  {
   "cell_type": "markdown",
   "id": "b863523b-fb68-4ff8-a1f4-6d7e16100dd3",
   "metadata": {},
   "source": [
    "Ejemplo: $f(x) = 2x^{3} - 9x^{2} + 7x + 6 = 0$\n",
    "\\begin{equation}\n",
    "x = \\frac{1}{7} \\{ -2x^{3} + 9x^{2} - 6 \\}\n",
    "\\end{equation}"
   ]
  },
  {
   "cell_type": "code",
   "execution_count": 1,
   "id": "7ea269fd-39d4-4249-a847-044d9fdad00a",
   "metadata": {},
   "outputs": [],
   "source": [
    "import numpy as np\n",
    "from sympy import *\n",
    "from sympy.utilities.lambdify import lambdify\n",
    "import matplotlib.pyplot as plt\n",
    "init_printing(use_unicode=True)"
   ]
  },
  {
   "cell_type": "code",
   "execution_count": 2,
   "id": "49b11fdc-46cb-4ecc-bccb-068a2c2d1d5c",
   "metadata": {},
   "outputs": [
    {
     "name": "stdout",
     "output_type": "stream",
     "text": [
      "-6*x**2/7 + 18*x/7\n"
     ]
    }
   ],
   "source": [
    "#calcular la derivada de f\n",
    "x = symbols('x')\n",
    "funcion = 2*x**3 - 9*x**2 + 7*x + 6\n",
    "gfuncion = (-2*x**3 + 9*x**2 - 6)/7 #escribir la función aqui\n",
    "dgfuncion = diff(gfuncion, x)\n",
    "print(str(dgfuncion))"
   ]
  },
  {
   "cell_type": "code",
   "execution_count": 3,
   "id": "3a303c85-eb27-44e2-a2e0-f03dec699228",
   "metadata": {},
   "outputs": [],
   "source": [
    "f = lambdify(x, funcion)\n",
    "g = lambdify(x, gfuncion)\n",
    "dg = lambdify(x, dgfuncion)"
   ]
  },
  {
   "cell_type": "code",
   "execution_count": 4,
   "id": "e1ad26e0-aff2-46f2-9d52-c56be6660442",
   "metadata": {},
   "outputs": [
    {
     "data": {
      "image/png": "[encoded data removed]",
      "text/plain": [
       "<Figure size 432x288 with 1 Axes>"
      ]
     },
     "metadata": {
      "needs_background": "light"
     },
     "output_type": "display_data"
    }
   ],
   "source": [
    "X = np.linspace(-1, 4, 100)\n",
    "plt.plot(X,dg(X), label = 'g´(x)')\n",
    "plt.ylim(-1,1)\n",
    "plt.legend()\n",
    "plt.show()"
   ]
  },
  {
   "cell_type": "markdown",
   "id": "4ef85c8b-bc1d-4f5f-8360-292961c84e60",
   "metadata": {},
   "source": [
    "La desigualdad se cumple aproximadamente entre en los intervalos $[-0.44, 0.46]$ y $[2.5, 3.34]$, aun que en realidad, en el primer intervalo no converge."
   ]
  },
  {
   "cell_type": "code",
   "execution_count": 5,
   "id": "9453a362-a561-4a50-bb96-adf433c3ece1",
   "metadata": {},
   "outputs": [],
   "source": [
    "e = 0.0001 #error\n",
    "maxit = 100 #iteraciones máximas"
   ]
  },
  {
   "cell_type": "code",
   "execution_count": 6,
   "id": "5167ab0b-cecd-4b01-bfad-9ffe0ce37d77",
   "metadata": {},
   "outputs": [],
   "source": [
    "def PuntoFijo(x0, func = g, error = e, iterations = maxit):\n",
    "    it = 0\n",
    "    while (abs(f(x0)) > e) and (it < maxit):\n",
    "        it += 1\n",
    "        xk = g(x0)\n",
    "        x0 = xk\n",
    "    return x0"
   ]
  },
  {
   "cell_type": "code",
   "execution_count": 7,
   "id": "c534b0d5-c4bd-4e7d-bbe6-0a07892fda9f",
   "metadata": {
    "tags": []
   },
   "outputs": [
    {
     "name": "stdout",
     "output_type": "stream",
     "text": [
      "2.9999926857948673\n"
     ]
    }
   ],
   "source": [
    "sol = PuntoFijo(2.6)\n",
    "print(sol)"
   ]
  },
  {
   "cell_type": "code",
   "execution_count": 8,
   "id": "b052bc66-e892-43de-a318-f98292274db7",
   "metadata": {},
   "outputs": [
    {
     "data": {
      "image/png": "[encoded data removed]",
      "text/plain": [
       "<Figure size 432x288 with 1 Axes>"
      ]
     },
     "metadata": {
      "needs_background": "light"
     },
     "output_type": "display_data"
    }
   ],
   "source": [
    "plt.plot(X, f(X), label='f(x)')\n",
    "plt.plot(sol,f(sol),'ro')\n",
    "plt.legend()\n",
    "plt.show()"
   ]
  },
  {
   "cell_type": "code",
   "execution_count": null,
   "id": "20f73bbf-f794-4f78-bfdd-474df0c30b4e",
   "metadata": {},
   "outputs": [],
   "source": []
  }
 ],
 "metadata": {
  "kernelspec": {
   "display_name": "Python 3",
   "language": "python",
   "name": "python3"
  },
  "language_info": {
   "codemirror_mode": {
    "name": "ipython",
    "version": 3
   },
   "file_extension": ".py",
   "mimetype": "text/x-python",
   "name": "python",
   "nbconvert_exporter": "python",
   "pygments_lexer": "ipython3",
   "version": "3.8.8"
  }
 },
 "nbformat": 4,
 "nbformat_minor": 5
}
